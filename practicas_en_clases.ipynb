{
  "cells": [
    {
      "cell_type": "markdown",
      "metadata": {
        "id": "view-in-github",
        "colab_type": "text"
      },
      "source": [
        "<a href=\"https://colab.research.google.com/github/patriciagaitan21/Progra-lll-USSS017122/blob/main/practicas_en_clases.ipynb\" target=\"_parent\"><img src=\"https://colab.research.google.com/assets/colab-badge.svg\" alt=\"Open In Colab\"/></a>"
      ]
    },
    {
      "cell_type": "code",
      "source": [
        "num1 = 5\n",
        "num2 = 7.5\n",
        "resp = num1 + num2\n",
        "print(\"La suma de\", num1, \" + \", num2, \"=\", resp)"
      ],
      "metadata": {
        "id": "hotInEOjB1Fd"
      },
      "execution_count": null,
      "outputs": []
    },
    {
      "cell_type": "code",
      "source": [
        "varLogica = False\n",
        "\n",
        "print(\"Variable Booleana: \", varLogica)"
      ],
      "metadata": {
        "id": "2pI9rD6tB9PY"
      },
      "execution_count": null,
      "outputs": []
    },
    {
      "cell_type": "code",
      "source": [
        "nombre = \"Ana Patricia\"\n",
        "print(\"Mi Nombre: \", nombre, \"Iniciales: \", nombre[0], nombre[5], \"Longitud: \", len(nombre) )\n",
        "print(\"Primer Nombre: \", nombre[0:5])\n",
        "print(\"Primer Nombre: \", nombre[:5])\n",
        "print(\"Apellido: \", nombre[5:len(nombre)])\n",
        "print(\"Apellid: \", nombre[5:])\n",
        "print(\"Apellido: \", nombre[-9:])\n"
      ],
      "metadata": {
        "id": "voKw9EY9CD6X"
      },
      "execution_count": null,
      "outputs": []
    },
    {
      "cell_type": "code",
      "source": [
        "print(type(num1))\n",
        "print(type(num2))\n",
        "print(type(varLogica))\n",
        "print(type(nombre))"
      ],
      "metadata": {
        "id": "3P67OKf4CiuT"
      },
      "execution_count": null,
      "outputs": []
    },
    {
      "cell_type": "code",
      "source": [
        "num1 = float(input (\"Num 1: \"))\n",
        "num2 = float(input (\"Num 2: \"))\n",
        "resp = num1 + num2\n",
        "print(\"La suma es: \", resp)\n"
      ],
      "metadata": {
        "id": "9UCKr1flCoLY"
      },
      "execution_count": null,
      "outputs": []
    },
    {
      "cell_type": "code",
      "source": [
        "def suma(num1, num2):\n",
        "  return num1 + num2"
      ],
      "metadata": {
        "id": "vnoeDoQBC6pT"
      },
      "execution_count": null,
      "outputs": []
    },
    {
      "cell_type": "code",
      "source": [
        "num1 = float(input(\"Num 1: \"))\n",
        "num2 = float(input(\"N4.26um 2: \"))\n",
        "resp = suma(num1, num2)\n",
        "print(resp)"
      ],
      "metadata": {
        "id": "kcyZwT89C_PE"
      },
      "execution_count": null,
      "outputs": []
    },
    {
      "cell_type": "code",
      "source": [
        "num1 = float(input (\"Num 1: \"))\n",
        "num2 = float(input (\"Num 2: \"))\n",
        "resp = num1 - num2\n",
        "print(\"La resta es: \", resp)\n"
      ],
      "metadata": {
        "id": "0OaVqnTRCuBU"
      },
      "execution_count": null,
      "outputs": []
    },
    {
      "cell_type": "markdown",
      "source": [
        "FUNCIONES DE USUARIO\n",
        "\n",
        "Convertir grados celsius a farenheit."
      ],
      "metadata": {
        "id": "RWyraZuVDQft"
      }
    },
    {
      "cell_type": "code",
      "source": [
        "c = float(input(\"Celsius: \"))\n",
        "print(\"F: \", convertir(c))"
      ],
      "metadata": {
        "id": "1ITEiFLVDRx3"
      },
      "execution_count": null,
      "outputs": []
    },
    {
      "cell_type": "code",
      "source": [
        "def convertir(f):\n",
        "  return 32 + f*5/9"
      ],
      "metadata": {
        "id": "xkyR7id5DZIr"
      },
      "execution_count": null,
      "outputs": []
    },
    {
      "cell_type": "code",
      "source": [
        "f = float(input(\"Farenheit: \"))\n",
        "print(\"C: \", convertir(f))"
      ],
      "metadata": {
        "id": "u3PB9XpsDaNN"
      },
      "execution_count": null,
      "outputs": []
    },
    {
      "cell_type": "code",
      "source": [
        "def convertir(f):\n",
        "  return (f-32)*5/9+273.15"
      ],
      "metadata": {
        "id": "lLa0uu8UDdpZ"
      },
      "execution_count": null,
      "outputs": []
    },
    {
      "cell_type": "code",
      "source": [
        "f = float(input(\"kelvin: \"))\n",
        "print(\"k: \", convertir(f))"
      ],
      "metadata": {
        "id": "KkCEeRjRDgC8"
      },
      "execution_count": null,
      "outputs": []
    },
    {
      "cell_type": "markdown",
      "source": [
        "CALCULAR EL SUELDO MENSUAL"
      ],
      "metadata": {
        "id": "LSgUyM_tDp33"
      }
    },
    {
      "cell_type": "code",
      "source": [
        "def sueldo(numHrs, valorXhr):\n",
        "  sueldo = numHrs*valorXhr*30\n",
        "  if(numHrs>8):\n",
        "    sueldo += (numHrs-8)*valorXhr*2*30\n",
        "  #isss + afp = 3 + 6.25 = 9.25 = 100 - 9.25 = 90.75/100 = 0.9075\n",
        "  #sueldo = sueldo*0.9075\n",
        "  return sueldo"
      ],
      "metadata": {
        "id": "7uNZif8-Dzil"
      },
      "execution_count": null,
      "outputs": []
    },
    {
      "cell_type": "code",
      "source": [
        "tabla_isr = [\n",
        "    [0.01, 472, 0, 0],\n",
        "    [472.01, 895.24, 0.1, 17.67],\n",
        "    [895.25, 2038.1, 0.2, 60.00],\n",
        "    [2038.11,9999999, 0.3, 288.57]\n",
        "]"
      ],
      "metadata": {
        "id": "w2Ino-RMD2jS"
      },
      "execution_count": null,
      "outputs": []
    },
    {
      "cell_type": "code",
      "source": [
        "def calcularIsr(sueldo, sueldoNeto):\n",
        "  impSr = 0\n",
        "  for tramo in tabla_isr:\n",
        "    if sueldo>tramo[0] and sueldo<=tramo[1]:\n",
        "      impSr = (sueldoNeto-tramo[0])*tramo[2] + tramo[3]\n",
        "  return impSr"
      ],
      "metadata": {
        "id": "zMrlPtmKD7QR"
      },
      "execution_count": null,
      "outputs": []
    },
    {
      "cell_type": "code",
      "source": [
        "valorXhr = 4\n",
        "#isss = 3%\n",
        "#afp = 6.25%\n",
        "numHrs = float(input(\"Horas trabajadas: \"))\n",
        "s = sueldo(numHrs, valorXhr)\n",
        "isr = calcularIsr(s, s*0.9075)\n",
        "print( \"Sueldo: \", s, \"ISR: \", isr, s*0.9075-isr )"
      ],
      "metadata": {
        "id": "qEejszuaD-Fp"
      },
      "execution_count": null,
      "outputs": []
    },
    {
      "cell_type": "markdown",
      "source": [
        "FUNCIONES LAMBDA\n",
        "\n",
        "FUNCIONES PRECONTRUIDAS MAP, FILTER, FIND, REDUCE, ETC."
      ],
      "metadata": {
        "id": "pM9tjBXbEC4b"
      }
    },
    {
      "cell_type": "code",
      "source": [
        "def elevarCuadrado(num):\n",
        "  return num**2"
      ],
      "metadata": {
        "id": "fF5-zmNfEaVJ"
      },
      "execution_count": null,
      "outputs": []
    },
    {
      "cell_type": "code",
      "source": [
        "data = [1,2,3,4,5]"
      ],
      "metadata": {
        "id": "7OEu9zyEEhBM"
      },
      "execution_count": null,
      "outputs": []
    },
    {
      "cell_type": "code",
      "source": [
        "resp = map(elevarCuadrado, data)\n",
        "print(list(resp))"
      ],
      "metadata": {
        "id": "Z83XptdUEjTh"
      },
      "execution_count": null,
      "outputs": []
    },
    {
      "cell_type": "code",
      "source": [
        "resp = map(lambda n:n**2, data)\n",
        "print(list(resp))"
      ],
      "metadata": {
        "id": "PdSyL0zREmRh"
      },
      "execution_count": null,
      "outputs": []
    },
    {
      "cell_type": "code",
      "source": [
        "resp = filter(lambda n:n>2, data)\n",
        "print( list(resp) )"
      ],
      "metadata": {
        "id": "YltFUUlwEony"
      },
      "execution_count": null,
      "outputs": []
    },
    {
      "cell_type": "code",
      "source": [
        "resp = functools.reduce(lambda a,n:a+n, data)\n",
        "print(resp)"
      ],
      "metadata": {
        "id": "A1jAl9_gEto-"
      },
      "execution_count": null,
      "outputs": []
    },
    {
      "cell_type": "markdown",
      "source": [
        "TUPLAS"
      ],
      "metadata": {
        "id": "1od7sHD-E8FB"
      }
    },
    {
      "cell_type": "code",
      "source": [
        "semana = (\"domingo\", \"lunes\", \"martes\", \"miercoles\", \"jueves\", \"viernes\", \"sabado\")\n",
        "#semana[0] = \"otro\"\n",
        "print( semana.count(\"domingo\") ) #count cuenta el numero de veces que aparece un elemento en la tupla\n",
        "print( len(semana) )"
      ],
      "metadata": {
        "id": "n_VuwKziE_sV"
      },
      "execution_count": null,
      "outputs": []
    },
    {
      "cell_type": "code",
      "source": [
        "meses = [\"ene\", \"feb\", \"mar\", \"abr\", \"may\", \"jun\", \"jul\", \"ago\", \"sep\", \"oct\", \"nov\", \"dic\"]\n",
        "print( meses[-2:] ) #ultimos dos meses del año\n",
        "print( meses[:2] ) #primero dos meses del año\n",
        "\n",
        "meses[0] = \"enero\"\n",
        "\n",
        "print( meses )"
      ],
      "metadata": {
        "id": "AZrFsK9AFCiL"
      },
      "execution_count": null,
      "outputs": []
    },
    {
      "cell_type": "code",
      "source": [
        "materias = [ [\"Progra I\", [5,6,8], [8,7,9], [9,10,9] ], [\"Progra II\"] ]\n",
        "print( materias[1][0] )"
      ],
      "metadata": {
        "id": "x18dH9RNFFXp"
      },
      "execution_count": null,
      "outputs": []
    },
    {
      "cell_type": "markdown",
      "source": [
        "DICCIONARIOS => JSON"
      ],
      "metadata": {
        "id": "xkS7jNz8FJ0q"
      }
    },
    {
      "cell_type": "code",
      "source": [
        "materias = {\n",
        "    \"Progra I\": {\n",
        "        \"c1\": {\n",
        "          \"lab1\" : 5,\n",
        "          \"lab2\" : 6,\n",
        "          \"parcial\" : 8\n",
        "      },\n",
        "      \"c2\": {\n",
        "          \"lab1\" : 8,\n",
        "          \"lab2\" : 7,\n",
        "          \"parcial\" : 9\n",
        "      },\n",
        "      \"c3\": {\n",
        "          \"lab1\" : 9,\n",
        "          \"lab2\" : 10,\n",
        "          \"parcial\" : 9\n",
        "      }\n",
        "    },\n",
        "    \"Progra II\" :{\n",
        "\n",
        "    }\n",
        "}\n",
        "print( materias[\"Progra I\"][\"c1\"][\"lab1\"] )"
      ],
      "metadata": {
        "id": "vAOgDHk6FPl9"
      },
      "execution_count": null,
      "outputs": []
    },
    {
      "cell_type": "markdown",
      "source": [],
      "metadata": {
        "id": "vrKZUArbFULw"
      }
    },
    {
      "cell_type": "markdown",
      "source": [
        "LISTAS"
      ],
      "metadata": {
        "id": "PZazNwCaFU2c"
      }
    },
    {
      "cell_type": "code",
      "execution_count": null,
      "metadata": {
        "id": "27lOr6erFv84"
      },
      "outputs": [],
      "source": [
        "data = [2,5,6,8,9]"
      ]
    },
    {
      "cell_type": "code",
      "execution_count": null,
      "metadata": {
        "colab": {
          "base_uri": "https://localhost:8080/"
        },
        "id": "D3FKUAoZHTQ1",
        "outputId": "3f4340d9-bd4a-4cb0-a514-a9f8f3a8a9c3"
      },
      "outputs": [
        {
          "name": "stdout",
          "output_type": "stream",
          "text": [
            "[8, 125, 216, 512, 729]\n"
          ]
        }
      ],
      "source": [
        "resp = map(lambda n:n**3, data)\n",
        "print(list(resp))"
      ]
    },
    {
      "cell_type": "code",
      "execution_count": null,
      "metadata": {
        "id": "Nn0hGIqHImPs"
      },
      "outputs": [],
      "source": [
        "data = [2,5,6,8,9]"
      ]
    },
    {
      "cell_type": "code",
      "execution_count": null,
      "metadata": {
        "colab": {
          "base_uri": "https://localhost:8080/"
        },
        "id": "YUjswvVgItra",
        "outputId": "8fed107a-19b7-45bd-8e00-5513ba332306"
      },
      "outputs": [
        {
          "name": "stdout",
          "output_type": "stream",
          "text": [
            "[35.6, 41.0, 42.8, 46.4, 48.2]\n"
          ]
        }
      ],
      "source": [
        "f = map(lambda c:c*9/5 + 32, data)\n",
        "print( list(f))"
      ]
    },
    {
      "cell_type": "code",
      "execution_count": null,
      "metadata": {
        "colab": {
          "base_uri": "https://localhost:8080/"
        },
        "id": "jic8Vx7-IV0q",
        "outputId": "5d6d3e07-1bcd-402c-a8fd-fa2fa0f4b7fc"
      },
      "outputs": [
        {
          "name": "stdout",
          "output_type": "stream",
          "text": [
            "[2, 6, 8]\n"
          ]
        }
      ],
      "source": [
        "pares = filter(lambda n:n%2==0, data)\n",
        "print( list(pares))"
      ]
    },
    {
      "cell_type": "code",
      "execution_count": null,
      "metadata": {
        "colab": {
          "base_uri": "https://localhost:8080/"
        },
        "id": "UGfK0qEtNyDq",
        "outputId": "e5ced704-781e-4987-cb4e-d508d5369271"
      },
      "outputs": [
        {
          "name": "stdout",
          "output_type": "stream",
          "text": [
            "[5, 9]\n"
          ]
        }
      ],
      "source": [
        "impares = filter(lambda n:n%2!=0, data)\n",
        "print( list(impares))"
      ]
    },
    {
      "cell_type": "markdown",
      "metadata": {
        "id": "LEhx_1s0Ovi6"
      },
      "source": [
        "CICLOS FOR\n",
        "\n"
      ]
    },
    {
      "cell_type": "code",
      "execution_count": null,
      "metadata": {
        "id": "VOACQRcMPC0d"
      },
      "outputs": [],
      "source": [
        "for item in data:\n",
        "  print(item)"
      ]
    },
    {
      "cell_type": "markdown",
      "metadata": {
        "id": "zzKk932kP7Z_"
      },
      "source": [
        "WHILE"
      ]
    },
    {
      "cell_type": "code",
      "execution_count": null,
      "metadata": {
        "id": "UkEpVyUMPXif",
        "colab": {
          "base_uri": "https://localhost:8080/"
        },
        "outputId": "832a6f33-8fa9-4097-8df6-96036737cdcc"
      },
      "outputs": [
        {
          "output_type": "stream",
          "name": "stdout",
          "text": [
            "2\n",
            "5\n",
            "6\n",
            "8\n",
            "9\n"
          ]
        }
      ],
      "source": [
        "i=0\n",
        "n = len(data)\n",
        "while i<n:\n",
        "  print( data[i])\n",
        "  i+=1"
      ]
    },
    {
      "cell_type": "markdown",
      "metadata": {
        "id": "qRccmhdwQKKA"
      },
      "source": [
        "TABLA DE MULTIPLICAR"
      ]
    },
    {
      "cell_type": "code",
      "execution_count": null,
      "metadata": {
        "colab": {
          "base_uri": "https://localhost:8080/"
        },
        "id": "6S4bvKr1QN9D",
        "outputId": "9b0f1263-eec9-462a-ae70-bcecea3f7b74"
      },
      "outputs": [
        {
          "name": "stdout",
          "output_type": "stream",
          "text": [
            "N Tabla: 9\n",
            "9 x 1 = 9\n",
            "9 x 2 = 18\n",
            "9 x 3 = 27\n",
            "9 x 4 = 36\n",
            "9 x 5 = 45\n",
            "9 x 6 = 54\n",
            "9 x 7 = 63\n",
            "9 x 8 = 72\n",
            "9 x 9 = 81\n",
            "9 x 10 = 90\n"
          ]
        }
      ],
      "source": [
        "n = int(input(\"N Tabla: \"))\n",
        "\n",
        "for i in range(1,11):\n",
        " print( n, \"x\", i, \"=\", n*i )"
      ]
    },
    {
      "cell_type": "code",
      "execution_count": null,
      "metadata": {
        "colab": {
          "base_uri": "https://localhost:8080/"
        },
        "id": "iKjGBsKGIttc",
        "outputId": "f0595c28-354e-4669-f4f2-c8ba3571e6b5"
      },
      "outputs": [
        {
          "name": "stdout",
          "output_type": "stream",
          "text": [
            "Edad: 11\n",
            "Soy un niño\n"
          ]
        }
      ],
      "source": [
        "edad = int(input(\"Edad: \"))\n",
        "\n",
        "if edad<=2:\n",
        "  print(\"soy un bebe\")\n",
        "elif edad<=11:\n",
        "  print(\"Soy un niño\")\n",
        "elif edad<18:\n",
        "  print(\"Soy un adolescente\")\n",
        "elif edad<65:\n",
        "  print(\"Soy mayor de edad\")\n",
        "elif edad<85:\n",
        "  print(\"Soy un adulto mayor\")\n",
        "else:\n",
        "  print(\"Larga vida\")"
      ]
    },
    {
      "cell_type": "markdown",
      "metadata": {
        "id": "U75LflEmMYc2"
      },
      "source": [
        "OBTENER EL NUMERO MAYOR DE UNA LISTA DE 10 DIGITOS."
      ]
    },
    {
      "cell_type": "code",
      "execution_count": null,
      "metadata": {
        "id": "d4YtZEiqMery"
      },
      "outputs": [],
      "source": [
        "lista = [5,8,9,15,7,9,2,3, 2, 1]"
      ]
    },
    {
      "cell_type": "code",
      "execution_count": null,
      "metadata": {
        "colab": {
          "base_uri": "https://localhost:8080/"
        },
        "id": "J0G-iaXPMsKc",
        "outputId": "175792b3-6a30-4f43-cc54-b3f7e03a2902"
      },
      "outputs": [
        {
          "name": "stdout",
          "output_type": "stream",
          "text": [
            "El numero mayor de la lista:  [5, 8, 9, 15, 7, 9, 2, 3, 2, 1] es:  15\n"
          ]
        }
      ],
      "source": [
        "mayor = 0\n",
        "for num in lista:\n",
        "  if num>mayor:\n",
        "    mayor = num\n",
        "print(\"El numero mayor de la lista: \", lista, \"es: \", mayor)"
      ]
    },
    {
      "cell_type": "markdown",
      "metadata": {
        "id": "Eu6NbGGdNIEb"
      },
      "source": [
        "EL numero mayor de la lista: [5,  8,  9,  15,  7,  9,  3,  2,  1]  es:  15"
      ]
    },
    {
      "cell_type": "code",
      "execution_count": null,
      "metadata": {
        "colab": {
          "background_save": true,
          "base_uri": "https://localhost:8080/"
        },
        "id": "EK-cwIwsNzz_",
        "outputId": "9858a01a-4e9e-4501-abd5-91aacbd0eabc"
      },
      "outputs": [
        {
          "name": "stdout",
          "output_type": "stream",
          "text": [
            "5\n",
            "8\n",
            "9\n",
            "15\n"
          ]
        }
      ],
      "source": [
        "mayor = 0\n",
        "i=0\n",
        "n=len(lista)\n",
        "while i<n:\n",
        "  if lista[i]>mayor:\n",
        "    mayor = lista[i]\n",
        "    i+=1\n",
        "    print(mayor)"
      ]
    },
    {
      "cell_type": "markdown",
      "source": [
        "**Escribri un programa que oida la nota de un exmamen (0-10), e impreima por pantalla la calificacion en formato: \"Suspenso\" si la nota es menor a 5, \"Aprobado\" si es entre 5 inclusive, y 7 sin incluir, \"Notable\" si esta entre 7 inclusive y 9 sin incluir, \"Sobresaliente\" si esta entre 9 inclusive y 10 sin incluir, y \"Honorable\" si es 10**"
      ],
      "metadata": {
        "id": "9XgkZ5GDJotS"
      }
    },
    {
      "cell_type": "markdown",
      "source": [],
      "metadata": {
        "id": "6gT4IeqVVNqO"
      }
    },
    {
      "cell_type": "code",
      "source": [
        "nota = float(input(\"Nota: \"))\n",
        "if(nota<0 or nota>10):\n",
        "  print(\"Nota invalida\")\n",
        "elif(nota<5):\n",
        "  print(\"SUPENSO\")\n",
        "elif(nota<7):\n",
        "  print(\"APROBADO\")\n",
        "elif(nota<9):\n",
        "  print(\"NOTABLE\")\n",
        "elif(nota<10):\n",
        "  print(\"SOBRESALIENTE\")\n",
        "else:\n",
        "  print(\"HONORABLE\")"
      ],
      "metadata": {
        "id": "6wOTru_mFmj1"
      },
      "execution_count": null,
      "outputs": []
    },
    {
      "cell_type": "markdown",
      "source": [
        "Escribe un programa que muestre la secuencia fibonacci"
      ],
      "metadata": {
        "id": "BIu7yGIRVJk6"
      }
    },
    {
      "cell_type": "code",
      "source": [
        "limit = int(input(\"Limit: \"))\n",
        "a=0\n",
        "b=1\n",
        "c=0\n",
        "while c<limit:\n",
        " c=a+b\n",
        " print(a,\"+\",b,\"=\", c)\n",
        " b=a\n",
        " a=c"
      ],
      "metadata": {
        "colab": {
          "base_uri": "https://localhost:8080/"
        },
        "id": "1CcBleZJbVCk",
        "outputId": "40c8435f-d31c-4445-ad33-e80567e24f2c"
      },
      "execution_count": null,
      "outputs": [
        {
          "output_type": "stream",
          "name": "stdout",
          "text": [
            "Limit: 100\n",
            "0 + 1 = 1\n",
            "1 + 0 = 1\n",
            "1 + 1 = 2\n",
            "2 + 1 = 3\n",
            "3 + 2 = 5\n",
            "5 + 3 = 8\n",
            "8 + 5 = 13\n",
            "13 + 8 = 21\n",
            "21 + 13 = 34\n",
            "34 + 21 = 55\n",
            "55 + 34 = 89\n",
            "89 + 55 = 144\n"
          ]
        }
      ]
    },
    {
      "cell_type": "markdown",
      "source": [
        "1.Escriba un programa que encuentreb la media aritmetica de una serie de numeros introducidos por el usuario\n",
        "2.Escriba un programa que determine si una palabra introducida por el usuario es palindrome o no, ejm. de palabras palindrome: Ana,oso,oro,etc.\n",
        "3.Escriba un programa que convierta un numero introducido por el usuario a su equivalente en numeros romanos. ejm: 5 -> V"
      ],
      "metadata": {
        "id": "aL_M2ZZHeI0K"
      }
    },
    {
      "cell_type": "code",
      "source": [
        "def convertir_a_romano(numero):\n",
        "    valores = [1000, 900, 500, 400, 100, 90, 50, 40, 10, 9, 5, 4, 1]\n",
        "    simbolos = [\"M\", \"CM\", \"D\", \"CD\", \"C\", \"XC\", \"L\", \"XL\", \"X\", \"IX\", \"V\", \"IV\", \"I\"]\n",
        "    numero_romano = \"\"\n",
        "\n",
        "    for i in range(len(valores)):\n",
        "        while numero >= valores[i]:\n",
        "            numero -= valores[i]\n",
        "            numero_romano += simbolos[i]\n",
        "\n",
        "    return numero_romano\n",
        "\n",
        "def main():\n",
        "    try:\n",
        "        numero = int(input(\"Introduce un número: \"))\n",
        "        if 1 <= numero <= 3999:\n",
        "            numero_romano = convertir_a_romano(numero)\n",
        "            print(f\"El número romano equivalente es: {numero_romano}\")\n",
        "        else:\n",
        "            print(\"Por favor, introduce un número entre 1 y 3999.\")\n",
        "    except ValueError:\n",
        "        print(\"Por favor, introduce un número válido.\")\n",
        "\n",
        "if __name__ == \"__main__\":\n",
        "    main()\n"
      ],
      "metadata": {
        "colab": {
          "base_uri": "https://localhost:8080/"
        },
        "id": "RIm1p5FKj4vf",
        "outputId": "53e18199-7923-47fe-fe98-5dc1173b0570"
      },
      "execution_count": null,
      "outputs": [
        {
          "output_type": "stream",
          "name": "stdout",
          "text": [
            "Introduce un número: 30\n",
            "El número romano equivalente es: XXX\n"
          ]
        }
      ]
    },
    {
      "cell_type": "code",
      "source": [
        "palabra = input(\"Ingrese una palabra: \")\n",
        "palabra = palabra.lower() # Convertir a minúsculas para hacer la comparación sin considerar mayúsculas\n",
        "palabra = palabra.replace(\" \", \"\") # Eliminar espacios en blanco\n",
        "\n",
        "inversa = palabra[::-1]  # Obtener la versión invertida de la palabra\n",
        "\n",
        "\n",
        "if palabra == inversa:\n",
        "    print(\"La palabra es un palíndrome.\")\n",
        "else:\n",
        "    print(\"La palabra no es un palíndrome.\")"
      ],
      "metadata": {
        "colab": {
          "base_uri": "https://localhost:8080/"
        },
        "id": "agWSfevIm4S7",
        "outputId": "229eec14-feee-47da-e612-ee48067e3cf4"
      },
      "execution_count": null,
      "outputs": [
        {
          "output_type": "stream",
          "name": "stdout",
          "text": [
            "Ingrese una palabra: ana\n",
            "La palabra es un palíndrome.\n"
          ]
        }
      ]
    },
    {
      "cell_type": "code",
      "source": [
        "numeros = []\n",
        "\n",
        "for i in range(4):\n",
        "    numero = float(input(f\"Ingrese el número {i + 1}: \"))\n",
        "    numeros.append(numero)\n",
        "\n",
        "media = sum(numeros) / 4\n",
        "print(f\"La media aritmética es: {media}\")\n"
      ],
      "metadata": {
        "colab": {
          "base_uri": "https://localhost:8080/"
        },
        "id": "KwE5HvUBnAII",
        "outputId": "9b4a5019-7759-41ee-8580-14404f0aacbb"
      },
      "execution_count": null,
      "outputs": [
        {
          "output_type": "stream",
          "name": "stdout",
          "text": [
            "Ingrese el número 1: 10\n",
            "Ingrese el número 2: 20\n",
            "Ingrese el número 3: 15\n",
            "Ingrese el número 4: 25\n",
            "La media aritmética es: 17.5\n"
          ]
        }
      ]
    },
    {
      "cell_type": "markdown",
      "source": [
        "PROGRAMACION ORIENTADA A OBJETOS.\n",
        "\n",
        "CLASE"
      ],
      "metadata": {
        "id": "SXDOXdZuF1xG"
      }
    },
    {
      "cell_type": "code",
      "source": [
        "class Calculadora:\n",
        "  def sumar(sefl, num1, num2):\n",
        "    return num1 + num2"
      ],
      "metadata": {
        "id": "yxHjmWktF260"
      },
      "execution_count": null,
      "outputs": []
    },
    {
      "cell_type": "markdown",
      "source": [
        "INSTANCIA DE UNA CLASE"
      ],
      "metadata": {
        "id": "n-OaRo4FF7xK"
      }
    },
    {
      "cell_type": "code",
      "source": [
        "objCalculadora = Calculadora()"
      ],
      "metadata": {
        "id": "CytrBsFIGCWz"
      },
      "execution_count": null,
      "outputs": []
    },
    {
      "cell_type": "markdown",
      "source": [
        "OBJETO"
      ],
      "metadata": {
        "id": "JejDolWqGFsh"
      }
    },
    {
      "cell_type": "code",
      "source": [
        "print( \"La suma de 5 + 3 = \", objCalculadora.sumar(5,3) )"
      ],
      "metadata": {
        "id": "YFLd3plaGIf2"
      },
      "execution_count": null,
      "outputs": []
    },
    {
      "cell_type": "markdown",
      "source": [
        "Calcular sobre el sueldo las deducciones por ley ISSS (3%), AFP(6%), ISR(Segun tabla) e imprima el total deducciones y sueldo neto."
      ],
      "metadata": {
        "id": "tnlXjF_ZGVst"
      }
    },
    {
      "cell_type": "code",
      "source": [
        "def sueldo(numHrs, valorXhr):\n",
        "  sueldo = numHrs*valorXhr*30\n",
        "  if(numHrs>8):\n",
        "    sueldo += (numHrs-8)*valorXhr*2*30\n",
        "  #isss + afp = 3 + 6.25 = 9.25 = 100 - 9.25 = 90.75/100 = 0.9075\n",
        "  sueldo = sueldo*0.9075\n",
        "  return sueldo"
      ],
      "metadata": {
        "id": "qq44wF_oGgZW"
      },
      "execution_count": null,
      "outputs": []
    },
    {
      "cell_type": "code",
      "source": [
        "tabla_isr = [\n",
        "    [0.01, 472, 0, 0],\n",
        "    [472.01, 895.24, 0.1, 17.67],\n",
        "    [895.25, 2038.1, 0.2, 60.00],\n",
        "    [2038.11,9999999, 0.3, 288.57]\n",
        "]"
      ],
      "metadata": {
        "id": "WYDj7baGGkEc"
      },
      "execution_count": null,
      "outputs": []
    },
    {
      "cell_type": "code",
      "source": [
        "def calcularIsr(sueldo, sueldoNeto):\n",
        "  impSr = 0\n",
        "  for tramo in tabla_isr:\n",
        "    if sueldo>tramo[0] and sueldo<=tramo[1]:\n",
        "      impSr = (sueldoNeto-tramo[0])*tramo[2] + tramo[3]\n",
        "  return impSr"
      ],
      "metadata": {
        "id": "QxVHyMGQGmoc"
      },
      "execution_count": null,
      "outputs": []
    },
    {
      "cell_type": "code",
      "source": [
        "valorXhr = 4\n",
        "#isss = 3%\n",
        "#afp = 6.25%\n",
        "numHrs = float(input(\"Horas trabajadas: \"))\n",
        "s = sueldo(numHrs, valorXhr)\n",
        "isr = calcularIsr(s, s*0.9075)\n",
        "print( \"Sueldo: \", sueldo(numHrs, valorXhr))\n",
        "print( \"ISR: \", isr, s*0.9075-isr )"
      ],
      "metadata": {
        "id": "sS--zo2XGnWy"
      },
      "execution_count": null,
      "outputs": []
    },
    {
      "cell_type": "markdown",
      "source": [
        "Calcular el valor a pagar según el numero de metros consumidos de agua potable."
      ],
      "metadata": {
        "id": "yhf00vINGsYx"
      }
    },
    {
      "cell_type": "code",
      "source": [
        "def calcularValoraPagar(mtsConsumidos):\n",
        "  cf = 6\n",
        "  tarifa2 = 0.45\n",
        "  tarifa3 = 0.65\n",
        "  if mtsConsumidos<=18:\n",
        "      Vap = cf\n",
        "  elif 19<=mtsConsumidos and mtsConsumidos<=28:\n",
        "      Vap = cf + (mtsConsumidos-18)*tarifa2\n",
        "  else:\n",
        "    Vap = cf + (10*tarifa2) + (mtsConsumidos-28)*tarifa3\n",
        "  return Vap"
      ],
      "metadata": {
        "id": "HEa9jqveGviP"
      },
      "execution_count": null,
      "outputs": []
    },
    {
      "cell_type": "code",
      "source": [
        "mtsConsumidos = int(input(\"Ingresa la cantidad de metros consumidos de agua potable: \"))\n",
        "valorTotal = calcularValoraPagar(mtsConsumidos)\n",
        "print(\"El total a pagar es: \", valorTotal)"
      ],
      "metadata": {
        "id": "sdAX841qGy-T"
      },
      "execution_count": null,
      "outputs": []
    },
    {
      "cell_type": "markdown",
      "source": [
        "Desarrolle la tabla de meses acumulados a n meses. Si puede encontrar la formula matemática para evitar ciclos."
      ],
      "metadata": {
        "id": "zPQFFxTgG24O"
      }
    },
    {
      "cell_type": "code",
      "source": [
        "def generar_tabla_acumulados(n):\n",
        "    tabla = [(mes, mes * (mes + 1) // 2, (mes - 1) * mes // 2) for mes in range(1, n + 1)]\n",
        "    return tabla\n",
        "\n",
        "def mostrar_tabla(tabla):\n",
        "    print(\"{:<6}      {:<12}\".format(\"MES\", \"ACUMULACION\"))\n",
        "    print(\"---------------------------\")\n",
        "    for fila in tabla:\n",
        "        print(\"{:<2}       {} + {} = {}\".format(fila[0], fila[0], fila[2], fila[1]))\n",
        "\n",
        "cantidad_meses = int(input(\"Ingresa el número de meses para generar la tabla: \"))\n",
        "tabla_acumulados = generar_tabla_acumulados(cantidad_meses)\n",
        "mostrar_tabla(tabla_acumulados)\n"
      ],
      "metadata": {
        "id": "EwOYYr6RHF8O"
      },
      "execution_count": null,
      "outputs": []
    },
    {
      "cell_type": "markdown",
      "source": [
        "Conversores: (10 items como minimo por cada uno)"
      ],
      "metadata": {
        "id": "bWLNw9EhHLI_"
      }
    },
    {
      "cell_type": "code",
      "source": [
        "class CurrencyConverter:\n",
        "    def __init__(self, exchange_rates):\n",
        "        self.exchange_rates = exchange_rates\n",
        "\n",
        "    def convert(self, amount, from_currency, to_currency):\n",
        "        if (from_currency, to_currency) in self.exchange_rates:\n",
        "            conversion_rate = self.exchange_rates[(from_currency, to_currency)]\n",
        "            converted_amount = amount * conversion_rate\n",
        "            return converted_amount\n",
        "        else:\n",
        "            return \"Tasa de cambio no encontrada.\"\n",
        "\n",
        "class LengthConverter:\n",
        "    def __init__(self, conversion_factors):\n",
        "        self.conversion_factors = conversion_factors\n",
        "\n",
        "    def convert(self, value, from_unit, to_unit):\n",
        "        if (from_unit, to_unit) in self.conversion_factors:\n",
        "            conversion_factor = self.conversion_factors[(from_unit, to_unit)]\n",
        "            converted_value = value * conversion_factor\n",
        "            return converted_value\n",
        "        else:\n",
        "            return \"Unidades no reconocidas.\"\n",
        "\n",
        "\n",
        "class VolumeConverter:\n",
        "    def __init__(self, conversion_factors):\n",
        "        self.conversion_factors = conversion_factors\n",
        "\n",
        "    def convert(self, value, from_unit, to_unit):\n",
        "        if (from_unit, to_unit) in self.conversion_factors:\n",
        "            conversion_factor = self.conversion_factors[(from_unit, to_unit)]\n",
        "            converted_value = value * conversion_factor\n",
        "            return converted_value\n",
        "        else:\n",
        "            return \"Unidades no reconocidas.\"\n",
        "\n",
        "\n",
        "class MassConverter:\n",
        "    def __init__(self, conversion_factors):\n",
        "        self.conversion_factors = conversion_factors\n",
        "\n",
        "    def convert(self, value, from_unit, to_unit):\n",
        "        if (from_unit, to_unit) in self.conversion_factors:\n",
        "            conversion_factor = self.conversion_factors[(from_unit, to_unit)]\n",
        "            converted_value = value * conversion_factor\n",
        "            return converted_value\n",
        "        else:\n",
        "            return \"Unidades no reconocidas.\"\n",
        "\n",
        "class StorageConverter:\n",
        "    def __init__(self, conversion_factors):\n",
        "        self.conversion_factors = conversion_factors\n",
        "\n",
        "    def convert(self, value, from_unit, to_unit):\n",
        "        if (from_unit, to_unit) in self.conversion_factors:\n",
        "            conversion_factor = self.conversion_factors[(from_unit, to_unit)]\n",
        "            converted_value = value * conversion_factor\n",
        "            return converted_value\n",
        "        else:\n",
        "            return \"Unidades no reconocidas.\"\n",
        "\n",
        "class TimeConverter:\n",
        "    def __init__(self, conversion_factors):\n",
        "        self.conversion_factors = conversion_factors\n",
        "\n",
        "    def convert(self, value, from_unit, to_unit):\n",
        "        if (from_unit, to_unit) in self.conversion_factors:\n",
        "            conversion_factor = self.conversion_factors[(from_unit, to_unit)]\n",
        "            converted_value = value * conversion_factor\n",
        "            return converted_value\n",
        "        else:\n",
        "            return \"Unidades no reconocidas.\"\n",
        "\n",
        "class AreaConverter:\n",
        "    def __init__(self, conversion_factors):\n",
        "        self.conversion_factors = conversion_factors\n",
        "\n",
        "    def convert(self, value, from_unit, to_unit):\n",
        "        if (from_unit, to_unit) in self.conversion_factors:\n",
        "            conversion_factor = self.conversion_factors[(from_unit, to_unit)]\n",
        "            converted_value = value * conversion_factor\n",
        "            return converted_value\n",
        "        else:\n",
        "            return \"Unidades no reconocidas.\"\n",
        "\n",
        "class AppleConverter:\n",
        "    def __init__(self, conversion_factors):\n",
        "        self.conversion_factors = conversion_factors\n",
        "\n",
        "    def convert(self, value, from_unit, to_unit):\n",
        "        if (from_unit, to_unit) in self.conversion_factors:\n",
        "            conversion_factor = self.conversion_factors[(from_unit, to_unit)]\n",
        "            converted_value = value * conversion_factor\n",
        "            return converted_value\n",
        "        else:\n",
        "            return \"Unidades no reconocidas.\"\n",
        "\n",
        "class TaskConverter:\n",
        "    def __init__(self, conversion_factors):\n",
        "        self.conversion_factors = conversion_factors\n",
        "\n",
        "    def convert(self, value, from_unit, to_unit):\n",
        "        if (from_unit, to_unit) in self.conversion_factors:\n",
        "            conversion_factor = self.conversion_factors[(from_unit, to_unit)]\n",
        "            converted_value = value * conversion_factor\n",
        "            return converted_value\n",
        "        else:\n",
        "            return \"Unidades no reconocidas.\"\n",
        "\n",
        "\n",
        "exchange_rates = {\n",
        "    ('USD', 'EUR'): 0.85,\n",
        "    ('USD', 'GBP'): 0.73,\n",
        "    ('USD', 'JPY'): 110.0,\n",
        "    ('USD', 'BOL'): 6.91,\n",
        "    ('USD', 'BAL'): 1.00,\n",
        "    ('USD', 'COL'): 8.75,\n",
        "    ('USD', 'MEX'): 17.11,\n",
        "    ('USD', 'RD'):  56.63,\n",
        "    ('USD', 'ARG'): 349.95,\n",
        "    ('USD', 'BRA'): 4.98,\n",
        "\n",
        "}\n",
        "conversion_factors_length = {\n",
        "    ('m', 'ft'): 3.28084,\n",
        "    ('ft', 'm'): 0.3048,\n",
        "    ('m', 'km'): 0.001,\n",
        "    ('km', 'cm'): 100,\n",
        "    ('centimetro', 'milimetro'): 1000,\n",
        "    ('milimetro', 'micrometro'): 1000,\n",
        "    ('micrometro', 'yarda'): 1.0936e-6,\n",
        "    ('yarda', 'pulgada'): 35.99956224,\n",
        "    ('pulgada', 'pie'): 0.08333232,\n",
        "    ('pie', 'milla nautica'): 0.0001645768324147,\n",
        "}\n",
        "\n",
        "conversion_factors_volume = {\n",
        "    ('litro', 'galon'): 0.264172,\n",
        "    ('galon', 'litro'): 3.78541,\n",
        "    ('litro', 'cuarto'): 1.05669,\n",
        "    ('cuarto', 'pinta'): 1.05669,\n",
        "    ('pinta', 'taza'): 1.9715719793088,\n",
        "    ('taza', 'onza'): 1.9715719793088,\n",
        "    ('onza', 'cucharada'): 2.0000033899999589693,\n",
        "    ('cucharada', 'metro cubico'): 1.478678984481600151e-5,\n",
        "    ('metro cubico', 'mililitro'): 1000001.6949999795761,\n",
        "    ('mililitro', 'pie cubico'): 3.53147265798479579e-5,\n",
        "\n",
        "}\n",
        "\n",
        "conversion_factors_mass = {\n",
        "    ('kg', 'lb'): 2.20462,\n",
        "    ('lb', 'kg'): 0.453592,\n",
        "    ('libra', 'gramo'): 453.592,\n",
        "    ('gramo', 'miligramo'): 999.9991843,\n",
        "    ('miligramo', 'tonelada larga'): 9.842057247938e-10,\n",
        "    ('tonelada larga', 'tonelada corta'): 1.1199990864160045412,\n",
        "    ('tonelada corta ', 'Stone'): 142.85702632857200456,\n",
        "    ('Stone', 'lb'): 13.999988580200058763,\n",
        "    ('lb', 'onza'): 15.999986948800065889,\n",
        "    ('onza', 'gramo'): 28.34950000029410333,\n",
        "\n",
        "}\n",
        "\n",
        "conversion_factors_storage = {\n",
        "    ('byte', 'KB'): 0.000976563,\n",
        "    ('KB', 'byte'): 1024,\n",
        "    ('bit', 'kilobit'): 0.001,\n",
        "    ('kilobit', 'kibibit'): 0.976563,\n",
        "    ('kibibit', 'megabit'): 0.001024000524288,\n",
        "    ('megabit', 'mebibit'): 0.95367480468749998845,\n",
        "    ('mebibit', 'gigabit'): 0.0010485765368709119415,\n",
        "    ('gigabit', 'gibibit'): 0.93132305145263671875,\n",
        "    ('gibibit', 'terabit'): 0.0010737423737558137674,\n",
        "    ('terabit', 'byte'): 125000064000,\n",
        "\n",
        "\n",
        "\n",
        "}\n",
        "\n",
        "conversion_factors_time = {\n",
        "    ('segundo', 'minuto'): 0.0166667,\n",
        "    ('minuto', 'segundo'): 60,\n",
        "    ('segundo', 'nanosegundo'): 1e+9,\n",
        "    ('nanosegundo', 'microsegundo'): 0.001,\n",
        "    ('microsegundo', 'milisegundo'): 0.001,\n",
        "    ('milisegundo', 'minuto'): 1.6667e-5,\n",
        "    ('minuto', 'hora'): 0.016667,\n",
        "    ('hora', 'dia'): 0.0416675,\n",
        "    ('dia', 'semana'): 0.14286,\n",
        "    ('semana', 'mes'): 0.2301413368,\n",
        "\n",
        "}\n",
        "\n",
        "conversion_factors_area = {\n",
        "    ('metro', 'pie'): 10.7639,\n",
        "    ('pie', 'metro'): 0.092903,\n",
        "    ('metro', 'pie'): 3.28084,\n",
        "    ('pie', 'centimetro'): 30.48000097536,\n",
        "    ('centimetro', 'milimetro'): 10.00000032,\n",
        "    ('milimetro', 'micrometro'): 1000.000032,\n",
        "    ('micrometro', 'nanometro'): 1000.000032,\n",
        "    ('nanometro', 'micrometro'): 0.001000000032,\n",
        "    ('micrometro', 'milla'): 6.21371212121211839e-10,\n",
        "    ('milla', 'pie'): 5280.0001689599985184,\n",
        "\n",
        "}\n",
        "\n",
        "conversion_factors_apple = {\n",
        "    ('manzana', 'metro'): 0.00404686,\n",
        "    ('metro', 'manzana'): 247.105,\n",
        "    ('manzana', 'varas cuadradas'): 10000,\n",
        "    ('varas cuadradas', 'metro cuadrado'): 0.698896,\n",
        "    ('metro cuadrado', 'pie'): 3.28084,\n",
        "    ('pie', 'yarda'): 0.333333,\n",
        "    ('yarda', 'milla'): 0.00056818125,\n",
        "    ('milla', 'milimetro'): 1.609e+6,\n",
        "    ('milimetro', 'centimetro'): 0.09997862483,\n",
        "    ('centimetro', 'metro'): 0.0099978624830000008272,\n",
        "\n",
        "}\n",
        "\n",
        "conversion_factors_task = {\n",
        "    ('tarea', 'hora'): 8,\n",
        "    ('hora', 'tarea'): 0.125,\n",
        "    ('tarea', 'metro'): 628.8,\n",
        "    ('metro', 'manzana'): 247.105,\n",
        "    ('manzana', 'metro'): 0.00404686,\n",
        "    ('yarda', 'milla'): 0.00056818125,\n",
        "    ('milla', 'milimetro'): 1.609e+6,\n",
        "    ('milimetro', 'micrometro'): 1000,\n",
        "    ('micrometro', 'nanometro'): 1000.000032,\n",
        "    ('nanometro', 'micrometro'): 0.001000000032,\n",
        "\n",
        "}\n",
        "\n",
        "\n",
        "#instancias de los conversores\n",
        "mass_converter = MassConverter(conversion_factors_mass)\n",
        "volume_converter = VolumeConverter(conversion_factors_volume)\n",
        "currency_converter = CurrencyConverter(exchange_rates)\n",
        "length_converter = LengthConverter(conversion_factors_length)\n",
        "storage_converter = StorageConverter(conversion_factors_storage)\n",
        "time_converter = TimeConverter(conversion_factors_time)\n",
        "area_converter = AreaConverter(conversion_factors_area)\n",
        "apple_converter = AppleConverter(conversion_factors_apple)\n",
        "task_converter = TaskConverter(conversion_factors_task)\n",
        "\n",
        "\n",
        "\n",
        "# Menú de opciones\n",
        "def main():\n",
        "    print(\"Conversores:\")\n",
        "    print(\"1. Conversor de Monedas\")\n",
        "    print(\"2. Conversor de Longitud\")\n",
        "    print(\"3. Conversor de Volumen\")\n",
        "    print(\"4. Conversor de Masa\")\n",
        "    print(\"5. Conversor de almacenamiento\")\n",
        "    print(\"6. Conversor de Tiempo\")\n",
        "    print(\"7. Conversor de Area\")\n",
        "    print(\"8. Conversor de Manzanas\")\n",
        "    print(\"9. Conversor de Tareas\")\n",
        "\n",
        "\n",
        "    choice = int(input(\"Selecciona una opción: \"))\n",
        "\n",
        "    if choice == 1:\n",
        "        amount = float(input(\"Ingresa la cantidad a convertir: \"))\n",
        "        from_currency = input(\"Moneda de origen (ej. USD): \").upper()\n",
        "        to_currency = input(\"Moneda de destino (ej. EUR): \").upper()\n",
        "\n",
        "        converted_amount = currency_converter.convert(amount, from_currency, to_currency)\n",
        "        print(f\"{amount} {from_currency} equivale a {converted_amount:.2f} {to_currency}\")\n",
        "    elif choice == 2:\n",
        "        value = float(input(\"Ingresa el valor a convertir: \"))\n",
        "        from_unit = input(\"Unidad de origen (ej. m): \").lower()\n",
        "        to_unit = input(\"Unidad de destino (ej. ft): \").lower()\n",
        "\n",
        "\n",
        "        converted_value = length_converter.convert(value, from_unit, to_unit)\n",
        "        print(f\"{value} {from_unit} equivale a {converted_value:.2f} {to_unit}\")\n",
        "    elif choice == 4:\n",
        "        value = float(input(\"Ingresa el valor a convertir: \"))\n",
        "        from_unit = input(\"Unidad de origen (ej. kg): \").lower()\n",
        "        to_unit = input(\"Unidad de destino (ej. lb): \").lower()\n",
        "\n",
        "        converted_value = mass_converter.convert(value, from_unit, to_unit)\n",
        "        print(f\"{value} {from_unit} equivale a {converted_value:.2f} {to_unit}\")\n",
        "    elif choice == 3:\n",
        "        value = float(input(\"Ingresa el valor a convertir: \"))\n",
        "        from_unit = input(\"Unidad de origen (ej. litro): \").lower()\n",
        "        to_unit = input(\"Unidad de destino (ej. galon): \").lower()\n",
        "\n",
        "        converted_value = volume_converter.convert(value, from_unit, to_unit)\n",
        "        print(f\"{value} {from_unit} equivale a {converted_value:.2f} {to_unit}\")\n",
        "    elif choice == 5:\n",
        "        value = float(input(\"Ingresa el valor a convertir: \"))\n",
        "        from_unit = input(\"Unidad de origen (ej. byte): \").lower()\n",
        "        to_unit = input(\"Unidad de destino (ej. KB): \").upper()\n",
        "\n",
        "        converted_value = storage_converter.convert(value, from_unit, to_unit)\n",
        "        print(f\"{value} {from_unit} equivale a {converted_value:.2f} {to_unit}\")\n",
        "    elif choice == 6:\n",
        "        value = float(input(\"Ingresa el valor a convertir: \"))\n",
        "        from_unit = input(\"Unidad de origen (ej. segundo): \").lower()\n",
        "        to_unit = input(\"Unidad de destino (ej. minuto): \").lower()\n",
        "\n",
        "        converted_value = time_converter.convert(value, from_unit, to_unit)\n",
        "        print(f\"{value} {from_unit} equivale a {converted_value:.2f} {to_unit}\")\n",
        "    elif choice == 7:\n",
        "        value = float(input(\"Ingresa el valor a convertir: \"))\n",
        "        from_unit = input(\"Unidad de origen (ej. metro): \").lower()\n",
        "        to_unit = input(\"Unidad de destino (ej. pie): \").lower()\n",
        "\n",
        "        converted_value = area_converter.convert(value, from_unit, to_unit)\n",
        "        print(f\"{value} {from_unit} equivale a {converted_value:.2f} {to_unit}\")\n",
        "    elif choice == 8:\n",
        "        value = float(input(\"Ingresa el valor a convertir: \"))\n",
        "        from_unit = input(\"Unidad de origen (ej. manzana): \").lower()\n",
        "        to_unit = input(\"Unidad de destino (ej. metro): \").lower()\n",
        "\n",
        "        converted_value = apple_converter.convert(value, from_unit, to_unit)\n",
        "        print(f\"{value} {from_unit} equivale a {converted_value:.2f} {to_unit}\")\n",
        "    elif choice == 9:\n",
        "        value = float(input(\"Ingresa el valor a convertir: \"))\n",
        "        from_unit = input(\"Unidad de origen (ej. tarea): \").lower()\n",
        "        to_unit = input(\"Unidad de destino (ej. hora): \").lower()\n",
        "\n",
        "        converted_value = task_converter.convert(value, from_unit, to_unit)\n",
        "        print(f\"{value} {from_unit} equivale a {converted_value:.2f} {to_unit}\")\n",
        "    else:\n",
        "        print(\"Opción no válida.\")\n",
        "\n",
        "\n",
        "\n",
        "\n",
        "\n",
        "if __name__ == \"__main__\":\n",
        "    main()"
      ],
      "metadata": {
        "id": "j29zszFQHNHd"
      },
      "execution_count": null,
      "outputs": []
    },
    {
      "cell_type": "markdown",
      "source": [
        "Realizar un conversor propio, donde especifique el valor de conversión."
      ],
      "metadata": {
        "id": "Yi-H4tuEHZXN"
      }
    },
    {
      "cell_type": "code",
      "source": [
        "def cajas_to_unidades(cajas):\n",
        "    return cajas * 25\n",
        "\n",
        "def unidades_to_cajas(unidades):\n",
        "    return unidades / 25\n",
        "\n",
        "def sacos_to_libras(sacos):\n",
        "    return sacos * 50\n",
        "\n",
        "def libras_to_sacos(libras):\n",
        "    return libras / 50\n",
        "\n",
        "def fardos_to_unidades(fardos):\n",
        "    return fardos * 5\n",
        "\n",
        "def unidades_to_fardos(unidades):\n",
        "    return unidades / 5\n",
        "\n",
        "def main():\n",
        "    while True:\n",
        "        print(\"1. Convertir Cajas a Unidades\")\n",
        "        print(\"2. Convertir Unidades a Cajas\")\n",
        "        print(\"3. Convertir Sacos a Libras\")\n",
        "        print(\"4. Convertir Libras a Sacos\")\n",
        "        print(\"5. Convertir Fardos a Unidades\")\n",
        "        print(\"6. Convertir Unidades a Fardos\")\n",
        "        print(\"7. Salir\")\n",
        "\n",
        "        choice = input(\"Elige una opcion: \")\n",
        "\n",
        "        if choice == '1':\n",
        "            cajas = float(input(\"cantidas en Cajas: \"))\n",
        "            unidades = cajas_to_unidades(cajas)\n",
        "            print(f\"{cajas} Cajas es igual a {unidades} Unidades.\\n\")\n",
        "        elif choice == '2':\n",
        "            unidades = float(input(\"cantidas en Unidades: \"))\n",
        "            cajas = unidades_to_cajas(unidades)\n",
        "            print(f\"{unidades} Unidades es igual a {cajas} Cajas.\\n\")\n",
        "        elif choice == '3':\n",
        "            sacos = float(input(\"cantidas en Sacos: \"))\n",
        "            libras = sacos_to_libras(sacos)\n",
        "            print(f\"{sacos} Sacos es igual a {libras} Libras.\\n\")\n",
        "        elif choice == '4':\n",
        "            libras = float(input(\"cantidas en Libras: \"))\n",
        "            sacos = libras_to_sacos(libras)\n",
        "            print(f\"{libras} es igual a {sacos} Sacos.\\n\")\n",
        "        elif choice == '5':\n",
        "            fardos = float(input(\"cantidas en Fardos: \"))\n",
        "            unidades = fardos_to_unidades(fardos)\n",
        "            print(f\"{fardos} Fardos es igual a {unidades} Unidades.\\n\")\n",
        "        elif choice == '6':\n",
        "            unidades = float(input(\"cantidas en Unidades: \"))\n",
        "            fardos = unidades_to_fardos(unidades)\n",
        "            print(f\"{unidades} Unidades es igual a {fardos} Fardos.\\n\")\n",
        "        elif choice == '7':\n",
        "            print(\"Hasta Luego.\")\n",
        "            break\n",
        "        else:\n",
        "            print(\"opcion invalidad. por favor eliga una de las opciones que se muestran.\\n\")\n",
        "\n",
        "if __name__ == \"__main__\":\n",
        "    main()"
      ],
      "metadata": {
        "id": "pNrSyDt7HaBH"
      },
      "execution_count": null,
      "outputs": []
    },
    {
      "cell_type": "markdown",
      "source": [
        "EXAMEN PARCIAL_1 Desarrolle un algoritmo en Python que calcule el impuesto a las actividades economicas de acuerdo con la siguiente tabla. El monto de la actividad economica debe ser introducido por el usuario.\n"
      ],
      "metadata": {
        "id": "IyZOlMmRT0rx"
      }
    },
    {
      "cell_type": "code",
      "source": [
        "actividad = float(input(\"Ingrese el monto de la actividad economica:\"))\n",
        "\n",
        "if (actividad >= 0.01 and actividad <=500):#1\n",
        "  precio = 1.5\n",
        "  adicional = 0\n",
        "  op1 = actividad - 0.01\n",
        "  opfinal = (op1 / 1000)*adicional+precio\n",
        "  print(\"Valor a pagar: \",str(opfinal))\n",
        "\n",
        "elif (actividad >= 500.01 and actividad <=1000):#2\n",
        "  precio = 1.5\n",
        "  adicional = 3\n",
        "  op1 = actividad - 500.01\n",
        "  opfinal = (op1 / 1000)*adicional+precio\n",
        "  print(\"Valor a pagar: \",str(opfinal))\n",
        "\n",
        "elif (actividad >= 1000.01 and actividad <=2000): #3\n",
        "  precio = 3\n",
        "  adicional = 3\n",
        "  op1 = actividad - 1000.01\n",
        "  opfinal = (op1 / 1000)*adicional+precio\n",
        "  print(\"Valor a pagar: \",str(opfinal))\n",
        "\n",
        "elif (actividad >= 2000.01 and actividad <=3000): #4\n",
        "  precio = 6\n",
        "  adicional = 3\n",
        "  op1 = actividad - 2000.01\n",
        "  opfinal = (op1 / 1000)*adicional+precio\n",
        "  print(\"Valor a pagar: \",str(opfinal))\n",
        "\n",
        "elif (actividad >= 3000.01 and actividad <=6000): #5\n",
        "  precio = 9\n",
        "  adicional = 2\n",
        "  op1 = actividad - 3000.01\n",
        "  opfinal = (op1 / 1000)*adicional+precio\n",
        "  print(\"Valor a pagar: \",str(opfinal))\n",
        "\n",
        "elif (actividad >= 8000.01 and actividad <=18000): #6\n",
        "  precio = 15\n",
        "  adicional = 2\n",
        "  op1 = actividad - 8000.01\n",
        "  opfinal = (op1 / 1000)*adicional+precio\n",
        "  print(\"Valor a pagar: \",str(opfinal))\n",
        "\n",
        "elif (actividad >= 18000.01 and actividad <=30000): #7\n",
        "  precio = 39\n",
        "  adicional = 2\n",
        "  op1 = actividad - 18000.01\n",
        "  opfinal = (op1 / 1000)*adicional+precio\n",
        "  print(\"Valor a pagar: \",str(opfinal))\n",
        "\n",
        "elif (actividad >= 30000.01 and actividad <=60000): #8\n",
        "  precio = 63\n",
        "  adicional = 1\n",
        "  op1 = actividad - 30000.01\n",
        "  opfinal = (op1 / 1000)*adicional+precio\n",
        "  print(\"Valor a pagar: \",str(opfinal))\n",
        "\n",
        "elif (actividad >= 60000.01 and actividad <=100000): #9\n",
        "  precio = 93\n",
        "  adicional = 0.8\n",
        "  op1 = actividad - 60000.01\n",
        "  opfinal = (op1 / 1000)*adicional+precio\n",
        "  print(\"Valor a pagar: \",str(opfinal))\n",
        "\n",
        "elif (actividad >= 100000.01 and actividad <=200000): #10\n",
        "  precio = 125\n",
        "  adicional = 0.7\n",
        "  op1 = actividad - 100000.01\n",
        "  opfinal = (op1 / 1000)*adicional+precio\n",
        "  print(\"Valor a pagar: \",str(opfinal))\n",
        "\n",
        "elif (actividad >= 200000.01 and actividad <=300000): #11\n",
        "  precio = 195\n",
        "  adicional = 0.6\n",
        "  op1 = actividad - 200000.01\n",
        "  opfinal = (op1 / 1000)*adicional+precio\n",
        "  print(\"Valor a pagar: \",str(opfinal))\n",
        "\n",
        "elif (actividad >= 300000.01 and actividad <=400000): #12\n",
        "  precio = 255\n",
        "  adicional = 0.45\n",
        "  op1 = actividad - 300000.01\n",
        "  opfinal = (op1 / 1000)*adicional+precio\n",
        "  print(\"Valor a pagar: \",str(opfinal))\n",
        "\n",
        "elif (actividad >= 400000.01 and actividad <=500000): #13\n",
        "  precio = 300\n",
        "  adicional = 0.4\n",
        "  op1 = actividad - 400000.01\n",
        "  opfinal = (op1 / 1000)*adicional+precio\n",
        "  print(\"Valor a pagar: \",str(opfinal))\n",
        "\n",
        "elif (actividad >= 500000.01 and actividad <=1000000): #14\n",
        "  precio = 340\n",
        "  adicional = 0.30\n",
        "  op1 = actividad - 500000.01\n",
        "  opfinal = (op1 / 1000)*adicional+precio\n",
        "  print(\"Valor a pagar: \",str(opfinal))\n",
        "\n",
        "elif (actividad >= 1000000.01 and actividad <=99999999): #15\n",
        "  precio = 490\n",
        "  adicional = 0.18\n",
        "  op1 = actividad - 1000000.01\n",
        "  opfinal = (op1 / 1000)*adicional+precio\n",
        "  print(\"Valor a pagar: \",str(opfinal))"
      ],
      "metadata": {
        "colab": {
          "base_uri": "https://localhost:8080/"
        },
        "id": "LUrPStaVktkk",
        "outputId": "19c5efce-32ee-4c10-8254-0c069dcc6449"
      },
      "execution_count": null,
      "outputs": [
        {
          "output_type": "stream",
          "name": "stdout",
          "text": [
            "Ingrese el monto de la actividad economica:20000\n",
            "Valor a pagar:  42.99998\n"
          ]
        }
      ]
    }
  ],
  "metadata": {
    "colab": {
      "provenance": [],
      "authorship_tag": "ABX9TyNLriSjD+CcvdnoF9d08j62",
      "include_colab_link": true
    },
    "kernelspec": {
      "display_name": "Python 3",
      "name": "python3"
    },
    "language_info": {
      "name": "python"
    }
  },
  "nbformat": 4,
  "nbformat_minor": 0
}